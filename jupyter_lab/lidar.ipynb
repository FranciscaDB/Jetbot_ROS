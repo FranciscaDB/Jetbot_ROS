{
 "cells": [
  {
   "cell_type": "code",
   "execution_count": null,
   "id": "cfe8fa87",
   "metadata": {
    "vscode": {
     "languageId": "plaintext"
    }
   },
   "outputs": [],
   "source": [
    "import subprocess\n",
    "import os\n",
    "import signal\n",
    "\n",
    "# Start the usb_cam node in the background\n",
    "lidar_process = subprocess.Popen(\n",
    "    ['ros2', 'launch', 'rplidar_ros', 'view_rplidar_c1_launch.py'],\n",
    "    stdout=subprocess.PIPE,\n",
    "    stderr=subprocess.PIPE,\n",
    "    preexec_fn=os.setsid # esto es clave para agrupar procesos\n",
    ")\n",
    "\n",
    "print(\"rplidar node started.\")"
   ]
  },
  {
   "cell_type": "code",
   "execution_count": null,
   "id": "379e9a6b",
   "metadata": {
    "vscode": {
     "languageId": "plaintext"
    }
   },
   "outputs": [],
   "source": [
    "# Matar todo el grupo de procesos lanzado por usb_cam\n",
    "os.killpg(os.getpgid(lidar_process.pid), signal.SIGINT)\n",
    "\n",
    "print(\"lidar node stopped.\")"
   ]
  }
 ],
 "metadata": {
  "language_info": {
   "name": "python"
  }
 },
 "nbformat": 4,
 "nbformat_minor": 5
}
