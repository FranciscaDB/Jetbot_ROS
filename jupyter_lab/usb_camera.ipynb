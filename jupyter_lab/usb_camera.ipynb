{
 "cells": [
  {
   "cell_type": "code",
   "execution_count": null,
   "id": "cfe8fa87",
   "metadata": {
    "vscode": {
     "languageId": "plaintext"
    }
   },
   "outputs": [],
   "source": [
    "import subprocess\n",
    "import os\n",
    "import signal\n",
    "\n",
    "# Start the usb_cam node in the background\n",
    "usb_cam_process = subprocess.Popen(\n",
    "    ['ros2', 'run', 'usb_cam', 'usb_cam_node_exe'],\n",
    "    stdout=subprocess.PIPE,\n",
    "    stderr=subprocess.PIPE,\n",
    "    preexec_fn=os.setsid # esto es clave para agrupar procesos\n",
    ")\n",
    "\n",
    "print(\"usb_cam node started.\")"
   ]
  },
  {
   "cell_type": "code",
   "execution_count": null,
   "id": "379e9a6b",
   "metadata": {
    "vscode": {
     "languageId": "plaintext"
    }
   },
   "outputs": [],
   "source": [
    "# ROS 2 Camera Viewer in Jupyter (ROS 2 Foxy + usb_cam)\n",
    "\n",
    "import rclpy\n",
    "from rclpy.node import Node\n",
    "from sensor_msgs.msg import Image\n",
    "from cv_bridge import CvBridge\n",
    "import cv2\n",
    "from PIL import Image as PILImage\n",
    "from IPython.display import display, clear_output\n",
    "import io\n",
    "import time\n",
    "\n",
    "# Initialize the CV bridge\n",
    "bridge = CvBridge()\n",
    "\n",
    "# Create a subscriber node\n",
    "class CameraSubscriber(Node):\n",
    "    def __init__(self):\n",
    "        super().__init__('camera_sub')\n",
    "        self.subscription = self.create_subscription(\n",
    "            Image,\n",
    "            '/image_raw',  # Use your camera topic (e.g., /usb_cam/image_raw)\n",
    "            self.listener_callback,\n",
    "            10\n",
    "        )\n",
    "\n",
    "    def listener_callback(self, msg):\n",
    "        # Convert ROS2 Image msg to OpenCV image\n",
    "        frame = bridge.imgmsg_to_cv2(msg, desired_encoding='bgr8')\n",
    "\n",
    "        # Convert to displayable format for Jupyter\n",
    "        _, buffer = cv2.imencode('.jpg', frame)\n",
    "        img_bytes = io.BytesIO(buffer)\n",
    "        pil_img = PILImage.open(img_bytes)\n",
    "\n",
    "        clear_output(wait=True)\n",
    "        display(pil_img)\n",
    "\n",
    "# Initialize ROS\n",
    "rclpy.init()\n",
    "node = CameraSubscriber()\n",
    "\n",
    "# Receive and display a few frames\n",
    "print(\"Receiving camera frames...\")\n",
    "for _ in range(10):\n",
    "    rclpy.spin_once(node, timeout_sec=0.2)\n",
    "    time.sleep(0.1)\n",
    "\n",
    "# Clean up\n",
    "node.destroy_node()\n",
    "rclpy.shutdown()\n",
    "print(\"Done.\")\n"
   ]
  },
  {
   "cell_type": "code",
   "execution_count": null,
   "id": "fad5fbce",
   "metadata": {
    "vscode": {
     "languageId": "plaintext"
    }
   },
   "outputs": [],
   "source": [
    "# Matar todo el grupo de procesos lanzado por usb_cam\n",
    "os.killpg(os.getpgid(usb_cam_process.pid), signal.SIGINT)\n",
    "\n",
    "print(\"usb_cam node stopped.\")"
   ]
  }
 ],
 "metadata": {
  "language_info": {
   "name": "python"
  }
 },
 "nbformat": 4,
 "nbformat_minor": 5
}
